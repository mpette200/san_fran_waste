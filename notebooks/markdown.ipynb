{
 "cells": [
  {
   "cell_type": "markdown",
   "metadata": {},
   "source": [
    "## Machine Learning - Garbage Cleaning in San Francisco\n",
    "\n",
    "This project attempts to apply machine learning to a data set containing details collected when garbage receptacles have been reported as overflowing. The data is publicly available from (https://datasf.org).\n",
    "\n",
    "Possible business cases might be:\n",
    "- Is it possible to predict locations and times when receptacles get full? This could help in assigning crews.\n",
    "- Some reports turn out to be false, might be useful if this could be predicted.\n",
    "- Do weather conditions have any effect? (Extra project to compare with weather data)\n",
    "\n",
    "\n",
    "## Columns in the Data Set\n",
    "Description of the columns in the data set is in the table below. Basic exploratory data analysis (EDA) using Sweetviz can be found in (https://mpette200.github.io/san_fran_waste/sweetviz/SWEETVIZ_REPORT.html).\n",
    "\n",
    "\n",
    "|    | Column Name         | Description                                                                                                                                                       | Type        |\n",
    "|---:|:--------------------|:------------------------------------------------------------------------------------------------------------------------------------------------------------------|:------------|\n",
    "|  0 | CaseID              | The unique ID of the service request created.                                                                                                                     | Number      |\n",
    "|  1 | Opened              | The date and time when the service request was made                                                                                                               | Date & Time |\n",
    "|  2 | Closed              | The date and time when the service request was closed                                                                                                             | Date & Time |\n",
    "|  3 | Updated             | The date and time when the service request was last modified. For requests with status=closed, this will be the date the request was closed                       | Date & Time |\n",
    "|  4 | Status              | A single-word indicator of the current state of the service request. (Note: GeoReport V2 only permits ‘open’ and ‘closed’)                                        | Plain Text  |\n",
    "|  5 | Status Notes        | Explanation of why status was changed to current state or more details on current status than conveyed with status alone                                          | Plain Text  |\n",
    "|  6 | Responsible Agency  | The agency responsible for fulfilling or otherwise addressing the service request.                                                                                | Plain Text  |\n",
    "|  7 | Category            | The human readable name of the service request type                                                                                                               | Plain Text  |\n",
    "|  8 | Request Type        | The human readable name of the service request subtype                                                                                                            | Plain Text  |\n",
    "|  9 | Request Details     | The human readable name of the service request details                                                                                                            | Plain Text  |\n",
    "| 10 | Address             | Human readable address or description of location                                                                                                                 | Plain Text  |\n",
    "| 11 | Street              | Primary Street of the associated address. Parks may have a park name instead of a street name. Requests not associated with an address will be blank.             | Plain Text  |\n",
    "| 12 | Supervisor District | San Francisco Supervisor District as defined in 'Supervisor Districts as of April 2012'                                                                           | Number      |\n",
    "| 13 | Neighborhood        | San Francisco Neighborhood as defined in 'SF Find Neighborhoods'                                                                                                  | Plain Text  |\n",
    "| 14 | Police District     | San Francisco Police District as defined in 'Current Police Districts'                                                                                            | Plain Text  |\n",
    "| 15 | Latitude            | Latitude of the location, using the WGS84 projection                                                                                                              | Number      |\n",
    "| 16 | Longitude           | Longitude of the location, using the WGS84 projection                                                                                                             | Number      |\n",
    "| 17 | Point               | Combination of Latitude and Longitude for Socrata native maps                                                                                                     | Location    |\n",
    "| 18 | Source              | Mechanism or path by which the service request was received; typically ‘Phone’, ‘Text/SMS’, ‘Website’, ‘Mobile App’, ‘Twitter’, etc but terms may vary by system. | Plain Text  |\n",
    "| 19 | Media URL           | A URL to media associated with the request, e.g. an image.                                                                                                        | Website URL |"
   ]
  }
 ],
 "metadata": {
  "kernelspec": {
   "display_name": "Python 3",
   "language": "python",
   "name": "python3"
  },
  "language_info": {
   "codemirror_mode": {
    "name": "ipython",
    "version": 3
   },
   "file_extension": ".py",
   "mimetype": "text/x-python",
   "name": "python",
   "nbconvert_exporter": "python",
   "pygments_lexer": "ipython3",
   "version": "3.6.8"
  }
 },
 "nbformat": 4,
 "nbformat_minor": 2
}
