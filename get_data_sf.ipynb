{
 "cells": [
  {
   "cell_type": "code",
   "execution_count": 1,
   "metadata": {},
   "outputs": [],
   "source": [
    "from urllib.parse import urlencode"
   ]
  },
  {
   "cell_type": "code",
   "execution_count": 2,
   "metadata": {},
   "outputs": [
    {
     "data": {
      "text/plain": [
       "'https://data.sfgov.org/api/views/vw6y-z8j6/rows.csv?query=%0A++++++++select+%2A+where+%60requested_datetime%60+%3E%3D+%272020-05-01%27%0A++++++++AND+%28%60service_name%60+%3D+%27Street+and+Sidewalk+Cleaning%27%29%0A++++++++AND+%28%60service_subtype%60+%3D+%27City_garbage_can_overflowing%27%29'"
      ]
     },
     "execution_count": 2,
     "metadata": {},
     "output_type": "execute_result"
    }
   ],
   "source": [
    "url_base = 'https://data.sfgov.org/api/views/vw6y-z8j6/rows.csv'\n",
    "start_date = '2020-05-01'\n",
    "params = {\n",
    "    'query': '''\n",
    "        select * where `requested_datetime` >= '{}'\n",
    "        AND (`service_name` = 'Street and Sidewalk Cleaning')\n",
    "        AND (`service_subtype` = 'City_garbage_can_overflowing')'''\\\n",
    "        .format(start_date),\n",
    "}\n",
    "url = url_base + '?' + urlencode(params)\n",
    "url"
   ]
  }
 ],
 "metadata": {
  "kernelspec": {
   "display_name": "Python 3",
   "language": "python",
   "name": "python3"
  },
  "language_info": {
   "codemirror_mode": {
    "name": "ipython",
    "version": 3
   },
   "file_extension": ".py",
   "mimetype": "text/x-python",
   "name": "python",
   "nbconvert_exporter": "python",
   "pygments_lexer": "ipython3",
   "version": "3.6.8"
  }
 },
 "nbformat": 4,
 "nbformat_minor": 2
}
